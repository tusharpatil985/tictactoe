{
 "cells": [
  {
   "cell_type": "code",
   "execution_count": 1,
   "metadata": {},
   "outputs": [],
   "source": [
    "from IPython.display import clear_output\n",
    "\n",
    "def display_board(board):\n",
    "    \n",
    "    clear_output()\n",
    "    \n",
    "    print('  |   |')\n",
    "    print(board[7] + ' | ' + board[8] + ' | ' + board[9])\n",
    "    print('  |   |')\n",
    "    print('---------')\n",
    "    print('  |   |')\n",
    "    print(board[4] + ' | ' + board[5] + ' | ' + board[6])\n",
    "    print('  |   |')\n",
    "    print('---------')\n",
    "    print('  |   |')\n",
    "    print(board[1] + ' | ' + board[2] + ' | ' + board[3])\n",
    "    print('  |   |')"
   ]
  },
  {
   "cell_type": "code",
   "execution_count": 2,
   "metadata": {},
   "outputs": [
    {
     "name": "stdout",
     "output_type": "stream",
     "text": [
      "  |   |\n",
      "X | O | X\n",
      "  |   |\n",
      "---------\n",
      "  |   |\n",
      "O | X | O\n",
      "  |   |\n",
      "---------\n",
      "  |   |\n",
      "X | O | X\n",
      "  |   |\n"
     ]
    }
   ],
   "source": [
    "test_board=['#','X','O','X','O','X','O','X','O','X']\n",
    "\n",
    "display_board(test_board)"
   ]
  },
  {
   "cell_type": "code",
   "execution_count": 3,
   "metadata": {},
   "outputs": [],
   "source": [
    "def player_input():\n",
    "    \n",
    "    marker = ''\n",
    "    \n",
    "    # Keep asking player 1 to choose X or O\n",
    "    \n",
    "    while marker != 'X' and marker != 'O':\n",
    "        marker = input('Player 1, Choose between X or O: ').upper()\n",
    "        \n",
    "        # Assign player 2, the opposite marker\n",
    "        player1 = marker\n",
    "        \n",
    "    if player1 == 'X':\n",
    "        player2 = 'O'\n",
    "    else:\n",
    "        player2 = 'X'\n",
    "            \n",
    "    return (player1,player2)"
   ]
  },
  {
   "cell_type": "code",
   "execution_count": 4,
   "metadata": {},
   "outputs": [
    {
     "name": "stdout",
     "output_type": "stream",
     "text": [
      "Player 1, Choose between X or O: x\n"
     ]
    },
    {
     "data": {
      "text/plain": [
       "('X', 'O')"
      ]
     },
     "execution_count": 4,
     "metadata": {},
     "output_type": "execute_result"
    }
   ],
   "source": [
    "player_input()"
   ]
  },
  {
   "cell_type": "code",
   "execution_count": 5,
   "metadata": {},
   "outputs": [],
   "source": [
    "def place_marker(board,marker,position):\n",
    "    board[position] = marker"
   ]
  },
  {
   "cell_type": "code",
   "execution_count": 6,
   "metadata": {},
   "outputs": [
    {
     "name": "stdout",
     "output_type": "stream",
     "text": [
      "  |   |\n",
      "X | $ | X\n",
      "  |   |\n",
      "---------\n",
      "  |   |\n",
      "O | X | O\n",
      "  |   |\n",
      "---------\n",
      "  |   |\n",
      "X | O | X\n",
      "  |   |\n"
     ]
    }
   ],
   "source": [
    "place_marker(test_board,'$',8)\n",
    "display_board(test_board)"
   ]
  },
  {
   "cell_type": "code",
   "execution_count": 7,
   "metadata": {},
   "outputs": [],
   "source": [
    "def win_check(board,mark):\n",
    "        \n",
    "    return (board[1] == board[2] == board[3] == mark) or (board[4] == board[5] == board[6] == mark) or (board[7] == board[8] == board[9] == mark) or (board[1] == board[4] == board[7] == mark) or (board[2] == board[5] == board[8] == mark) or (board[3] == board[6] == board[9] == mark) or (board[1] == board[5] == board[9] == mark) or (board[3] == board[5] == board[7] == mark)\n",
    "        "
   ]
  },
  {
   "cell_type": "code",
   "execution_count": 8,
   "metadata": {},
   "outputs": [
    {
     "name": "stdout",
     "output_type": "stream",
     "text": [
      "  |   |\n",
      "X | $ | X\n",
      "  |   |\n",
      "---------\n",
      "  |   |\n",
      "O | X | O\n",
      "  |   |\n",
      "---------\n",
      "  |   |\n",
      "X | O | X\n",
      "  |   |\n"
     ]
    },
    {
     "data": {
      "text/plain": [
       "True"
      ]
     },
     "execution_count": 8,
     "metadata": {},
     "output_type": "execute_result"
    }
   ],
   "source": [
    "display_board(test_board)\n",
    "\n",
    "win_check(test_board,'X')"
   ]
  },
  {
   "cell_type": "code",
   "execution_count": 9,
   "metadata": {},
   "outputs": [],
   "source": [
    "import random\n",
    "\n",
    "def choose_first():\n",
    "        \n",
    "    flip = random.randint(0,1)\n",
    "    \n",
    "    if flip == 0:\n",
    "        return 'Player 2'\n",
    "    else:\n",
    "        return 'Player 1'"
   ]
  },
  {
   "cell_type": "code",
   "execution_count": 10,
   "metadata": {},
   "outputs": [],
   "source": [
    "def space_check(board,position):\n",
    "    \n",
    "    return board[position] == ' '"
   ]
  },
  {
   "cell_type": "code",
   "execution_count": 11,
   "metadata": {},
   "outputs": [],
   "source": [
    "def full_board_check(board):\n",
    "    \n",
    "    for i in range(1,10):\n",
    "        if space_check(board,i):\n",
    "            return False\n",
    "        \n",
    "    return True"
   ]
  },
  {
   "cell_type": "code",
   "execution_count": 12,
   "metadata": {},
   "outputs": [],
   "source": [
    "def player_choice(board):\n",
    "    \n",
    "    position = 0\n",
    "    \n",
    "    while position not in [1,2,3,4,5,6,7,8,9] or not space_check(board,position):\n",
    "        position = int(input('Choose a position: (1-9) '))\n",
    "            \n",
    "    return position\n",
    "        "
   ]
  },
  {
   "cell_type": "code",
   "execution_count": 13,
   "metadata": {},
   "outputs": [],
   "source": [
    "def replay():\n",
    "    \n",
    "    choice = input('Do you want to play again? Enter Yes or No: ').lower()[0]\n",
    "    \n",
    "    return choice"
   ]
  },
  {
   "cell_type": "code",
   "execution_count": null,
   "metadata": {},
   "outputs": [
    {
     "name": "stdout",
     "output_type": "stream",
     "text": [
      "  |   |\n",
      "  |   |  \n",
      "  |   |\n",
      "---------\n",
      "  |   |\n",
      "  |   |  \n",
      "  |   |\n",
      "---------\n",
      "  |   |\n",
      "  |   |  \n",
      "  |   |\n"
     ]
    }
   ],
   "source": [
    "print('Welcome to Tic Tac Toe')\n",
    "\n",
    "while True:\n",
    "    \n",
    "    theboard = [' ']*10\n",
    "    player1_marker,player2_marker = player_input()\n",
    "    \n",
    "    turn = choose_first()\n",
    "    print(turn + ' Will go first')\n",
    "    \n",
    "    play_game = input('Are you ready to play this game? Enter Yes or No ')\n",
    "    \n",
    "    if play_game.lower()[0] == 'y':\n",
    "        game_on = True\n",
    "    else:\n",
    "        game_on = False\n",
    "        \n",
    "    while game_on:\n",
    "        \n",
    "        if turn == 'Player 1':\n",
    "            display_board(theboard)\n",
    "            position = player_choice(theboard)\n",
    "            place_marker(theboard,player1_marker,position)\n",
    "            \n",
    "            if win_check(theboard,player1_marker):\n",
    "                display_board(theboard)\n",
    "                print('Congratulations..You have won the game..!!!')\n",
    "                game_on = False\n",
    "            else:\n",
    "                if full_board_check(theboard):\n",
    "                    display_board(theboard)\n",
    "                    print('TIE GAME...!!!')\n",
    "                    break\n",
    "                else:\n",
    "                    turn = 'Player 2'\n",
    "        else:\n",
    "            display_board(theboard)\n",
    "            position = player_choice(theboard)\n",
    "            place_marker(theboard,player2_marker,position)\n",
    "            \n",
    "            if win_check(theboard,player2_marker):\n",
    "                display_board(theboard)\n",
    "                print('Congratulations...Player 2 has WON..!!!')\n",
    "                game_on = False\n",
    "            \n",
    "            else:\n",
    "                if full_board_check(theboard):\n",
    "                    display_board(theboard)\n",
    "                    print('TIE GAME...!!!')\n",
    "                    break\n",
    "                else:\n",
    "                    turn = 'Player 1'\n",
    "            \n",
    "    \n",
    "    if not replay():\n",
    "        break"
   ]
  },
  {
   "cell_type": "code",
   "execution_count": null,
   "metadata": {
    "collapsed": true
   },
   "outputs": [],
   "source": []
  }
 ],
 "metadata": {
  "kernelspec": {
   "display_name": "Python 3",
   "language": "python",
   "name": "python3"
  },
  "language_info": {
   "codemirror_mode": {
    "name": "ipython",
    "version": 3
   },
   "file_extension": ".py",
   "mimetype": "text/x-python",
   "name": "python",
   "nbconvert_exporter": "python",
   "pygments_lexer": "ipython3",
   "version": "3.7.6"
  }
 },
 "nbformat": 4,
 "nbformat_minor": 4
}
